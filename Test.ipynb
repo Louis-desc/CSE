{
 "cells": [
  {
   "cell_type": "markdown",
   "metadata": {},
   "source": [
    "# Test "
   ]
  },
  {
   "cell_type": "code",
   "execution_count": 4,
   "metadata": {},
   "outputs": [],
   "source": [
    "import torch\n",
    "import torch_geometric\n",
    "from torch_geometric.datasets import Planetoid\n",
    "import torch_geometric.utils as pygu"
   ]
  },
  {
   "cell_type": "code",
   "execution_count": 22,
   "metadata": {},
   "outputs": [
    {
     "name": "stdout",
     "output_type": "stream",
     "text": [
      "Cora()\n",
      "number of graphs:\t\t 1\n",
      "number of classes:\t\t 7\n",
      "number of node features:\t 1433\n",
      "number of edge features:\t 0\n"
     ]
    }
   ],
   "source": [
    "dataset = Planetoid(root=\"Testnb\",name= \"Cora\")\n",
    "print(dataset)\n",
    "print(\"number of graphs:\\t\\t\",len(dataset))\n",
    "print(\"number of classes:\\t\\t\",dataset.num_classes)\n",
    "print(\"number of node features:\\t\",dataset.num_node_features)\n",
    "print(\"number of edge features:\\t\",dataset.num_edge_features)"
   ]
  },
  {
   "cell_type": "code",
   "execution_count": 4,
   "metadata": {},
   "outputs": [
    {
     "name": "stdout",
     "output_type": "stream",
     "text": [
      "Data(x=[2708, 1433], edge_index=[2, 10556], y=[2708], train_mask=[2708], val_mask=[2708], test_mask=[2708])\n"
     ]
    },
    {
     "name": "stderr",
     "output_type": "stream",
     "text": [
      "/opt/anaconda3/envs/testNeuro/lib/python3.11/site-packages/torch_geometric/data/in_memory_dataset.py:300: UserWarning: It is not recommended to directly access the internal storage format `data` of an 'InMemoryDataset'. If you are absolutely certain what you are doing, access the internal storage via `InMemoryDataset._data` instead to suppress this warning. Alternatively, you can access stacked individual attributes of every graph via `dataset.{attr_name}`.\n",
      "  warnings.warn(msg)\n"
     ]
    }
   ],
   "source": [
    "print(dataset.data)"
   ]
  },
  {
   "cell_type": "code",
   "execution_count": 3,
   "metadata": {},
   "outputs": [
    {
     "ename": "NameError",
     "evalue": "name 'dataset' is not defined",
     "output_type": "error",
     "traceback": [
      "\u001b[0;31m---------------------------------------------------------------------------\u001b[0m",
      "\u001b[0;31mNameError\u001b[0m                                 Traceback (most recent call last)",
      "Cell \u001b[0;32mIn[3], line 2\u001b[0m\n\u001b[1;32m      1\u001b[0m \u001b[38;5;28;01mimport\u001b[39;00m \u001b[38;5;21;01mtorch_geometric\u001b[39;00m\u001b[38;5;21;01m.\u001b[39;00m\u001b[38;5;21;01mutils\u001b[39;00m \u001b[38;5;28;01mas\u001b[39;00m \u001b[38;5;21;01mpygu\u001b[39;00m\n\u001b[0;32m----> 2\u001b[0m pygu\u001b[38;5;241m.\u001b[39mcontains_self_loops(\u001b[43mdataset\u001b[49m\u001b[38;5;241m.\u001b[39medge_index)\n",
      "\u001b[0;31mNameError\u001b[0m: name 'dataset' is not defined"
     ]
    }
   ],
   "source": [
    "import torch_geometric.utils as pygu\n",
    "pygu.contains_self_loops(dataset.edge_index)"
   ]
  },
  {
   "cell_type": "code",
   "execution_count": 6,
   "metadata": {},
   "outputs": [
    {
     "data": {
      "text/plain": [
       "tensor([[ 633, 1862, 2582,    2,  652,  654,    1,  332, 1454, 1666],\n",
       "        [   0,    0,    0,    1,    1,    1,    2,    2,    2,    2]])"
      ]
     },
     "execution_count": 6,
     "metadata": {},
     "output_type": "execute_result"
    }
   ],
   "source": [
    "dataset.edge_index[:,:10]"
   ]
  },
  {
   "cell_type": "code",
   "execution_count": 7,
   "metadata": {},
   "outputs": [
    {
     "data": {
      "text/plain": [
       "tensor([[0., 0., 0.,  ..., 0., 0., 0.],\n",
       "        [0., 0., 0.,  ..., 0., 0., 0.],\n",
       "        [0., 0., 0.,  ..., 0., 0., 0.],\n",
       "        ...,\n",
       "        [0., 0., 0.,  ..., 0., 0., 0.],\n",
       "        [0., 0., 0.,  ..., 0., 0., 0.],\n",
       "        [0., 0., 0.,  ..., 0., 0., 0.]])"
      ]
     },
     "execution_count": 7,
     "metadata": {},
     "output_type": "execute_result"
    }
   ],
   "source": [
    "dataset.x"
   ]
  },
  {
   "cell_type": "code",
   "execution_count": 12,
   "metadata": {},
   "outputs": [
    {
     "name": "stdout",
     "output_type": "stream",
     "text": [
      "tensor([[1, 2, 3, 4],\n",
      "        [5, 6, 7, 8]])\n",
      "2\n",
      "0\n",
      "tensor([[[1, 2, 3, 4],\n",
      "         [5, 6, 7, 8]]])\n",
      "1\n",
      "tensor([[[1, 2, 3, 4]],\n",
      "\n",
      "        [[5, 6, 7, 8]]])\n",
      "-1 = 2\n",
      "tensor([[[1],\n",
      "         [2],\n",
      "         [3],\n",
      "         [4]],\n",
      "\n",
      "        [[5],\n",
      "         [6],\n",
      "         [7],\n",
      "         [8]]])\n",
      "0 + -1\n",
      "tensor([[[[1],\n",
      "          [2],\n",
      "          [3],\n",
      "          [4]],\n",
      "\n",
      "         [[5],\n",
      "          [6],\n",
      "          [7],\n",
      "          [8]]]])\n"
     ]
    }
   ],
   "source": [
    "x = torch.tensor([[1,2,3,4],[5,6,7,8]])\n",
    "print(x)\n",
    "print(x.dim())\n",
    "print(\"0\")\n",
    "print(x.unsqueeze(0))\n",
    "print(\"1\")\n",
    "print(x.unsqueeze(1))\n",
    "print(\"-1 = 2\")\n",
    "print(x.unsqueeze(-1))\n",
    "print(\"0 + -1\")\n",
    "print(x.unsqueeze(0).unsqueeze(-1))\n"
   ]
  },
  {
   "cell_type": "code",
   "execution_count": 20,
   "metadata": {},
   "outputs": [
    {
     "name": "stdout",
     "output_type": "stream",
     "text": [
      "tensor([[1],\n",
      "        [2],\n",
      "        [3],\n",
      "        [4]])\n",
      "cat without dimension :  tensor([[1],\n",
      "        [2],\n",
      "        [3],\n",
      "        [4],\n",
      "        [1],\n",
      "        [2],\n",
      "        [3],\n",
      "        [4]])\n"
     ]
    },
    {
     "data": {
      "text/plain": [
       "tensor([[1, 1],\n",
       "        [2, 2],\n",
       "        [3, 3],\n",
       "        [4, 4]])"
      ]
     },
     "execution_count": 20,
     "metadata": {},
     "output_type": "execute_result"
    }
   ],
   "source": [
    "x = torch.tensor([1,2,3,4]).unsqueeze(1)\n",
    "print(x)\n",
    "print(\"cat without dimension : \", torch.cat((x,x)))\n",
    "torch.cat((x,x),1)"
   ]
  },
  {
   "cell_type": "code",
   "execution_count": 6,
   "metadata": {},
   "outputs": [
    {
     "name": "stdout",
     "output_type": "stream",
     "text": [
      "NeuroMatchNetwork(\n",
      "  (pre_mp): Sequential(\n",
      "    (0): Linear(in_features=1, out_features=64, bias=True)\n",
      "  )\n",
      "  (convs): ModuleList(\n",
      "    (0): SAGEConv(64, 64, aggr=sum)\n",
      "    (1): SAGEConv(128, 64, aggr=sum)\n",
      "    (2): SAGEConv(192, 64, aggr=sum)\n",
      "    (3): SAGEConv(256, 64, aggr=sum)\n",
      "    (4): SAGEConv(320, 64, aggr=sum)\n",
      "    (5): SAGEConv(384, 64, aggr=sum)\n",
      "    (6): SAGEConv(448, 64, aggr=sum)\n",
      "    (7): SAGEConv(512, 64, aggr=sum)\n",
      "  )\n",
      "  (post_mp): Sequential(\n",
      "    (0): Linear(in_features=576, out_features=64, bias=True)\n",
      "    (1): Dropout(p=0.0, inplace=False)\n",
      "    (2): LeakyReLU(negative_slope=0.1)\n",
      "    (3): Linear(in_features=64, out_features=64, bias=True)\n",
      "    (4): ReLU()\n",
      "    (5): Linear(in_features=64, out_features=256, bias=True)\n",
      "    (6): ReLU()\n",
      "    (7): Linear(in_features=256, out_features=64, bias=True)\n",
      "  )\n",
      ")\n"
     ]
    }
   ],
   "source": [
    "from models.NM import NeuroMatchNetwork \n",
    "from torch_geometric.datasets import TUDataset\n",
    "dataset = TUDataset(root=\"/tmp/ENZYMES\", name=\"ENZYMES\")\n",
    "testNMN = NeuroMatchNetwork()\n",
    "print(testNMN)"
   ]
  },
  {
   "cell_type": "code",
   "execution_count": 14,
   "metadata": {},
   "outputs": [
    {
     "name": "stdout",
     "output_type": "stream",
     "text": [
      "[Data(edge_index=[2, 190], x=[45, 3], y=[1]), Data(edge_index=[2, 158], x=[38, 3], y=[1]), Data(edge_index=[2, 190], x=[51, 3], y=[1]), Data(edge_index=[2, 60], x=[17, 3], y=[1]), Data(edge_index=[2, 70], x=[18, 3], y=[1]), Data(edge_index=[2, 190], x=[51, 3], y=[1]), Data(edge_index=[2, 86], x=[24, 3], y=[1]), Data(edge_index=[2, 170], x=[44, 3], y=[1]), Data(edge_index=[2, 94], x=[27, 3], y=[1]), Data(edge_index=[2, 100], x=[21, 3], y=[1]), Data(edge_index=[2, 178], x=[48, 3], y=[1]), Data(edge_index=[2, 70], x=[19, 3], y=[1]), Data(edge_index=[2, 92], x=[22, 3], y=[1]), Data(edge_index=[2, 182], x=[45, 3], y=[1]), Data(edge_index=[2, 156], x=[48, 3], y=[1]), Data(edge_index=[2, 232], x=[52, 3], y=[1]), Data(edge_index=[2, 134], x=[30, 3], y=[1]), Data(edge_index=[2, 66], x=[19, 3], y=[1]), Data(edge_index=[2, 100], x=[22, 3], y=[1]), Data(edge_index=[2, 176], x=[40, 3], y=[1]), Data(edge_index=[2, 166], x=[43, 3], y=[1]), Data(edge_index=[2, 46], x=[11, 3], y=[1]), Data(edge_index=[2, 92], x=[25, 3], y=[1]), Data(edge_index=[2, 194], x=[55, 3], y=[1]), Data(edge_index=[2, 154], x=[34, 3], y=[1]), Data(edge_index=[2, 186], x=[46, 3], y=[1]), Data(edge_index=[2, 160], x=[39, 3], y=[1]), Data(edge_index=[2, 112], x=[27, 3], y=[1]), Data(edge_index=[2, 194], x=[45, 3], y=[1]), Data(edge_index=[2, 108], x=[28, 3], y=[1]), Data(edge_index=[2, 196], x=[51, 3], y=[1]), Data(edge_index=[2, 78], x=[20, 3], y=[1]), Data(edge_index=[2, 96], x=[21, 3], y=[1]), Data(edge_index=[2, 164], x=[38, 3], y=[1]), Data(edge_index=[2, 136], x=[36, 3], y=[1]), Data(edge_index=[2, 114], x=[32, 3], y=[1]), Data(edge_index=[2, 112], x=[25, 3], y=[1]), Data(edge_index=[2, 224], x=[66, 3], y=[1]), Data(edge_index=[2, 106], x=[28, 3], y=[1]), Data(edge_index=[2, 182], x=[38, 3], y=[1]), Data(edge_index=[2, 128], x=[35, 3], y=[1]), Data(edge_index=[2, 114], x=[26, 3], y=[1]), Data(edge_index=[2, 196], x=[52, 3], y=[1]), Data(edge_index=[2, 186], x=[50, 3], y=[1]), Data(edge_index=[2, 176], x=[38, 3], y=[1]), Data(edge_index=[2, 90], x=[24, 3], y=[1]), Data(edge_index=[2, 94], x=[27, 3], y=[1]), Data(edge_index=[2, 64], x=[18, 3], y=[1]), Data(edge_index=[2, 116], x=[33, 3], y=[1]), Data(edge_index=[2, 198], x=[51, 3], y=[1]), Data(edge_index=[2, 190], x=[42, 3], y=[1]), Data(edge_index=[2, 96], x=[28, 3], y=[1]), Data(edge_index=[2, 36], x=[10, 3], y=[1]), Data(edge_index=[2, 174], x=[40, 3], y=[1]), Data(edge_index=[2, 142], x=[37, 3], y=[1]), Data(edge_index=[2, 114], x=[32, 3], y=[1]), Data(edge_index=[2, 152], x=[42, 3], y=[1]), Data(edge_index=[2, 190], x=[44, 3], y=[1]), Data(edge_index=[2, 176], x=[41, 3], y=[1]), Data(edge_index=[2, 108], x=[28, 3], y=[1]), Data(edge_index=[2, 34], x=[10, 3], y=[1]), Data(edge_index=[2, 106], x=[23, 3], y=[1]), Data(edge_index=[2, 140], x=[38, 3], y=[1]), Data(edge_index=[2, 132], x=[38, 3], y=[1]), Data(edge_index=[2, 110], x=[28, 3], y=[1]), Data(edge_index=[2, 80], x=[24, 3], y=[1]), Data(edge_index=[2, 150], x=[38, 3], y=[1]), Data(edge_index=[2, 66], x=[18, 3], y=[1]), Data(edge_index=[2, 96], x=[22, 3], y=[1]), Data(edge_index=[2, 188], x=[42, 3], y=[1]), Data(edge_index=[2, 162], x=[40, 3], y=[1]), Data(edge_index=[2, 92], x=[26, 3], y=[1]), Data(edge_index=[2, 118], x=[40, 3], y=[1]), Data(edge_index=[2, 214], x=[60, 3], y=[1]), Data(edge_index=[2, 28], x=[7, 3], y=[1]), Data(edge_index=[2, 24], x=[7, 3], y=[1]), Data(edge_index=[2, 100], x=[23, 3], y=[1]), Data(edge_index=[2, 154], x=[42, 3], y=[1]), Data(edge_index=[2, 198], x=[46, 3], y=[1]), Data(edge_index=[2, 190], x=[44, 3], y=[1]), Data(edge_index=[2, 68], x=[18, 3], y=[1]), Data(edge_index=[2, 160], x=[39, 3], y=[1]), Data(edge_index=[2, 94], x=[26, 3], y=[1]), Data(edge_index=[2, 100], x=[24, 3], y=[1]), Data(edge_index=[2, 194], x=[46, 3], y=[1]), Data(edge_index=[2, 208], x=[62, 3], y=[1]), Data(edge_index=[2, 180], x=[46, 3], y=[1]), Data(edge_index=[2, 156], x=[48, 3], y=[1]), Data(edge_index=[2, 62], x=[18, 3], y=[1]), Data(edge_index=[2, 164], x=[39, 3], y=[1]), Data(edge_index=[2, 174], x=[52, 3], y=[1]), Data(edge_index=[2, 206], x=[60, 3], y=[1]), Data(edge_index=[2, 16], x=[9, 3], y=[1]), Data(edge_index=[2, 102], x=[27, 3], y=[1]), Data(edge_index=[2, 134], x=[35, 3], y=[1]), Data(edge_index=[2, 192], x=[48, 3], y=[1]), Data(edge_index=[2, 122], x=[35, 3], y=[1]), Data(edge_index=[2, 118], x=[26, 3], y=[1]), Data(edge_index=[2, 158], x=[38, 3], y=[1]), Data(edge_index=[2, 152], x=[42, 3], y=[1]), Data(edge_index=[2, 148], x=[41, 3], y=[1]), Data(edge_index=[2, 146], x=[41, 3], y=[1]), Data(edge_index=[2, 168], x=[40, 3], y=[1]), Data(edge_index=[2, 172], x=[50, 3], y=[1]), Data(edge_index=[2, 140], x=[40, 3], y=[1]), Data(edge_index=[2, 118], x=[31, 3], y=[1]), Data(edge_index=[2, 176], x=[37, 3], y=[1]), Data(edge_index=[2, 76], x=[20, 3], y=[1]), Data(edge_index=[2, 176], x=[41, 3], y=[1]), Data(edge_index=[2, 170], x=[44, 3], y=[1]), Data(edge_index=[2, 158], x=[34, 3], y=[1]), Data(edge_index=[2, 46], x=[12, 3], y=[1]), Data(edge_index=[2, 154], x=[55, 3], y=[1]), Data(edge_index=[2, 102], x=[30, 3], y=[1]), Data(edge_index=[2, 108], x=[34, 3], y=[1]), Data(edge_index=[2, 100], x=[24, 3], y=[1]), Data(edge_index=[2, 100], x=[29, 3], y=[1]), Data(edge_index=[2, 98], x=[22, 3], y=[1]), Data(edge_index=[2, 200], x=[60, 3], y=[1]), Data(edge_index=[2, 162], x=[39, 3], y=[1]), Data(edge_index=[2, 182], x=[38, 3], y=[1]), Data(edge_index=[2, 92], x=[20, 3], y=[1]), Data(edge_index=[2, 162], x=[37, 3], y=[1]), Data(edge_index=[2, 282], x=[126, 3], y=[1]), Data(edge_index=[2, 102], x=[27, 3], y=[1]), Data(edge_index=[2, 164], x=[44, 3], y=[1]), Data(edge_index=[2, 90], x=[26, 3], y=[1]), Data(edge_index=[2, 122], x=[36, 3], y=[1]), Data(edge_index=[2, 122], x=[32, 3], y=[1]), Data(edge_index=[2, 162], x=[42, 3], y=[1]), Data(edge_index=[2, 116], x=[39, 3], y=[1]), Data(edge_index=[2, 196], x=[50, 3], y=[1]), Data(edge_index=[2, 116], x=[27, 3], y=[1]), Data(edge_index=[2, 52], x=[15, 3], y=[1]), Data(edge_index=[2, 62], x=[16, 3], y=[1]), Data(edge_index=[2, 124], x=[31, 3], y=[1]), Data(edge_index=[2, 144], x=[34, 3], y=[1]), Data(edge_index=[2, 134], x=[30, 3], y=[1]), Data(edge_index=[2, 84], x=[19, 3], y=[1]), Data(edge_index=[2, 90], x=[24, 3], y=[1]), Data(edge_index=[2, 112], x=[30, 3], y=[1]), Data(edge_index=[2, 128], x=[32, 3], y=[1]), Data(edge_index=[2, 88], x=[23, 3], y=[1]), Data(edge_index=[2, 138], x=[33, 3], y=[1]), Data(edge_index=[2, 128], x=[36, 3], y=[1]), Data(edge_index=[2, 184], x=[44, 3], y=[1]), Data(edge_index=[2, 58], x=[14, 3], y=[1]), Data(edge_index=[2, 132], x=[33, 3], y=[1]), Data(edge_index=[2, 198], x=[44, 3], y=[1]), Data(edge_index=[2, 56], x=[15, 3], y=[1]), Data(edge_index=[2, 90], x=[25, 3], y=[1]), Data(edge_index=[2, 164], x=[42, 3], y=[1]), Data(edge_index=[2, 58], x=[15, 3], y=[1]), Data(edge_index=[2, 124], x=[33, 3], y=[1]), Data(edge_index=[2, 86], x=[18, 3], y=[1]), Data(edge_index=[2, 58], x=[14, 3], y=[1]), Data(edge_index=[2, 44], x=[12, 3], y=[1]), Data(edge_index=[2, 78], x=[21, 3], y=[1]), Data(edge_index=[2, 84], x=[25, 3], y=[1]), Data(edge_index=[2, 90], x=[25, 3], y=[1]), Data(edge_index=[2, 146], x=[40, 3], y=[1]), Data(edge_index=[2, 164], x=[37, 3], y=[1]), Data(edge_index=[2, 78], x=[23, 3], y=[1]), Data(edge_index=[2, 200], x=[46, 3], y=[1]), Data(edge_index=[2, 38], x=[11, 3], y=[1]), Data(edge_index=[2, 194], x=[45, 3], y=[1]), Data(edge_index=[2, 128], x=[33, 3], y=[1]), Data(edge_index=[2, 176], x=[42, 3], y=[1]), Data(edge_index=[2, 64], x=[18, 3], y=[1]), Data(edge_index=[2, 84], x=[22, 3], y=[1]), Data(edge_index=[2, 98], x=[24, 3], y=[1]), Data(edge_index=[2, 102], x=[27, 3], y=[1]), Data(edge_index=[2, 64], x=[16, 3], y=[1]), Data(edge_index=[2, 102], x=[23, 3], y=[1]), Data(edge_index=[2, 174], x=[39, 3], y=[1]), Data(edge_index=[2, 116], x=[26, 3], y=[1]), Data(edge_index=[2, 188], x=[44, 3], y=[1]), Data(edge_index=[2, 168], x=[40, 3], y=[1]), Data(edge_index=[2, 164], x=[39, 3], y=[1]), Data(edge_index=[2, 128], x=[36, 3], y=[1]), Data(edge_index=[2, 152], x=[34, 3], y=[1]), Data(edge_index=[2, 164], x=[42, 3], y=[1]), Data(edge_index=[2, 92], x=[26, 3], y=[1]), Data(edge_index=[2, 82], x=[21, 3], y=[1]), Data(edge_index=[2, 120], x=[32, 3], y=[1]), Data(edge_index=[2, 100], x=[26, 3], y=[1]), Data(edge_index=[2, 132], x=[35, 3], y=[1]), Data(edge_index=[2, 192], x=[46, 3], y=[1]), Data(edge_index=[2, 194], x=[44, 3], y=[1]), Data(edge_index=[2, 230], x=[59, 3], y=[1]), Data(edge_index=[2, 74], x=[20, 3], y=[1]), Data(edge_index=[2, 196], x=[48, 3], y=[1]), Data(edge_index=[2, 140], x=[39, 3], y=[1]), Data(edge_index=[2, 144], x=[40, 3], y=[1]), Data(edge_index=[2, 228], x=[52, 3], y=[1]), Data(edge_index=[2, 70], x=[19, 3], y=[1]), Data(edge_index=[2, 188], x=[44, 3], y=[1]), Data(edge_index=[2, 190], x=[47, 3], y=[1]), Data(edge_index=[2, 92], x=[22, 3], y=[1]), Data(edge_index=[2, 76], x=[20, 3], y=[1]), Data(edge_index=[2, 152], x=[42, 3], y=[1]), Data(edge_index=[2, 152], x=[39, 3], y=[1]), Data(edge_index=[2, 220], x=[51, 3], y=[1]), Data(edge_index=[2, 66], x=[18, 3], y=[1]), Data(edge_index=[2, 190], x=[44, 3], y=[1]), Data(edge_index=[2, 188], x=[48, 3], y=[1]), Data(edge_index=[2, 50], x=[14, 3], y=[1]), Data(edge_index=[2, 128], x=[31, 3], y=[1]), Data(edge_index=[2, 74], x=[18, 3], y=[1]), Data(edge_index=[2, 102], x=[27, 3], y=[1]), Data(edge_index=[2, 78], x=[20, 3], y=[1]), Data(edge_index=[2, 72], x=[20, 3], y=[1]), Data(edge_index=[2, 184], x=[50, 3], y=[1]), Data(edge_index=[2, 102], x=[26, 3], y=[1]), Data(edge_index=[2, 122], x=[38, 3], y=[1]), Data(edge_index=[2, 88], x=[23, 3], y=[1]), Data(edge_index=[2, 156], x=[41, 3], y=[1]), Data(edge_index=[2, 140], x=[34, 3], y=[1]), Data(edge_index=[2, 140], x=[35, 3], y=[1]), Data(edge_index=[2, 70], x=[19, 3], y=[1]), Data(edge_index=[2, 126], x=[34, 3], y=[1]), Data(edge_index=[2, 170], x=[44, 3], y=[1]), Data(edge_index=[2, 122], x=[27, 3], y=[1]), Data(edge_index=[2, 60], x=[17, 3], y=[1]), Data(edge_index=[2, 150], x=[38, 3], y=[1]), Data(edge_index=[2, 54], x=[15, 3], y=[1]), Data(edge_index=[2, 124], x=[28, 3], y=[1]), Data(edge_index=[2, 120], x=[27, 3], y=[1]), Data(edge_index=[2, 44], x=[12, 3], y=[1]), Data(edge_index=[2, 102], x=[24, 3], y=[1]), Data(edge_index=[2, 84], x=[21, 3], y=[1]), Data(edge_index=[2, 52], x=[14, 3], y=[1]), Data(edge_index=[2, 78], x=[19, 3], y=[1]), Data(edge_index=[2, 166], x=[41, 3], y=[1]), Data(edge_index=[2, 196], x=[50, 3], y=[1]), Data(edge_index=[2, 140], x=[36, 3], y=[1]), Data(edge_index=[2, 86], x=[21, 3], y=[1]), Data(edge_index=[2, 188], x=[43, 3], y=[1]), Data(edge_index=[2, 94], x=[25, 3], y=[1]), Data(edge_index=[2, 90], x=[23, 3], y=[1]), Data(edge_index=[2, 98], x=[28, 3], y=[1]), Data(edge_index=[2, 94], x=[25, 3], y=[1]), Data(edge_index=[2, 164], x=[40, 3], y=[1]), Data(edge_index=[2, 106], x=[38, 3], y=[1]), Data(edge_index=[2, 142], x=[38, 3], y=[1]), Data(edge_index=[2, 56], x=[13, 3], y=[1]), Data(edge_index=[2, 158], x=[35, 3], y=[1]), Data(edge_index=[2, 196], x=[52, 3], y=[1]), Data(edge_index=[2, 124], x=[28, 3], y=[1]), Data(edge_index=[2, 184], x=[41, 3], y=[1]), Data(edge_index=[2, 120], x=[30, 3], y=[1]), Data(edge_index=[2, 98], x=[29, 3], y=[1]), Data(edge_index=[2, 92], x=[24, 3], y=[1]), Data(edge_index=[2, 88], x=[26, 3], y=[1]), Data(edge_index=[2, 30], x=[9, 3], y=[1]), Data(edge_index=[2, 100], x=[24, 3], y=[1]), Data(edge_index=[2, 82], x=[29, 3], y=[1]), Data(edge_index=[2, 64], x=[18, 3], y=[1]), Data(edge_index=[2, 178], x=[42, 3], y=[1]), Data(edge_index=[2, 124], x=[34, 3], y=[1]), Data(edge_index=[2, 66], x=[15, 3], y=[1]), Data(edge_index=[2, 160], x=[48, 3], y=[1]), Data(edge_index=[2, 128], x=[29, 3], y=[1]), Data(edge_index=[2, 78], x=[19, 3], y=[1]), Data(edge_index=[2, 164], x=[45, 3], y=[1]), Data(edge_index=[2, 102], x=[26, 3], y=[1]), Data(edge_index=[2, 144], x=[46, 3], y=[1]), Data(edge_index=[2, 102], x=[25, 3], y=[1]), Data(edge_index=[2, 202], x=[44, 3], y=[1]), Data(edge_index=[2, 192], x=[46, 3], y=[1]), Data(edge_index=[2, 148], x=[42, 3], y=[1]), Data(edge_index=[2, 146], x=[37, 3], y=[1]), Data(edge_index=[2, 126], x=[40, 3], y=[1]), Data(edge_index=[2, 122], x=[33, 3], y=[1]), Data(edge_index=[2, 104], x=[30, 3], y=[1]), Data(edge_index=[2, 100], x=[24, 3], y=[1]), Data(edge_index=[2, 94], x=[25, 3], y=[1]), Data(edge_index=[2, 90], x=[20, 3], y=[1]), Data(edge_index=[2, 138], x=[37, 3], y=[1]), Data(edge_index=[2, 68], x=[19, 3], y=[1]), Data(edge_index=[2, 48], x=[12, 3], y=[1]), Data(edge_index=[2, 154], x=[34, 3], y=[1]), Data(edge_index=[2, 160], x=[67, 3], y=[1]), Data(edge_index=[2, 104], x=[30, 3], y=[1]), Data(edge_index=[2, 160], x=[60, 3], y=[1]), Data(edge_index=[2, 266], x=[88, 3], y=[1]), Data(edge_index=[2, 48], x=[12, 3], y=[1]), Data(edge_index=[2, 98], x=[27, 3], y=[1]), Data(edge_index=[2, 130], x=[32, 3], y=[1]), Data(edge_index=[2, 76], x=[20, 3], y=[1]), Data(edge_index=[2, 116], x=[37, 3], y=[1]), Data(edge_index=[2, 94], x=[32, 3], y=[1]), Data(edge_index=[2, 198], x=[52, 3], y=[1]), Data(edge_index=[2, 152], x=[41, 3], y=[1]), Data(edge_index=[2, 56], x=[16, 3], y=[1]), Data(edge_index=[2, 84], x=[21, 3], y=[1]), Data(edge_index=[2, 52], x=[14, 3], y=[1]), Data(edge_index=[2, 100], x=[23, 3], y=[1]), Data(edge_index=[2, 58], x=[17, 3], y=[1]), Data(edge_index=[2, 82], x=[20, 3], y=[1]), Data(edge_index=[2, 74], x=[20, 3], y=[1]), Data(edge_index=[2, 114], x=[29, 3], y=[1]), Data(edge_index=[2, 188], x=[48, 3], y=[1]), Data(edge_index=[2, 92], x=[24, 3], y=[1]), Data(edge_index=[2, 112], x=[33, 3], y=[1]), Data(edge_index=[2, 72], x=[19, 3], y=[1]), Data(edge_index=[2, 92], x=[22, 3], y=[1]), Data(edge_index=[2, 32], x=[100, 3], y=[1]), Data(edge_index=[2, 170], x=[39, 3], y=[1]), Data(edge_index=[2, 210], x=[54, 3], y=[1]), Data(edge_index=[2, 184], x=[49, 3], y=[1]), Data(edge_index=[2, 58], x=[16, 3], y=[1]), Data(edge_index=[2, 198], x=[48, 3], y=[1]), Data(edge_index=[2, 112], x=[27, 3], y=[1]), Data(edge_index=[2, 136], x=[30, 3], y=[1]), Data(edge_index=[2, 114], x=[27, 3], y=[1]), Data(edge_index=[2, 90], x=[24, 3], y=[1]), Data(edge_index=[2, 164], x=[39, 3], y=[1]), Data(edge_index=[2, 168], x=[42, 3], y=[1]), Data(edge_index=[2, 56], x=[16, 3], y=[1]), Data(edge_index=[2, 166], x=[46, 3], y=[1]), Data(edge_index=[2, 94], x=[22, 3], y=[1]), Data(edge_index=[2, 158], x=[41, 3], y=[1]), Data(edge_index=[2, 160], x=[42, 3], y=[1]), Data(edge_index=[2, 128], x=[32, 3], y=[1]), Data(edge_index=[2, 180], x=[42, 3], y=[1]), Data(edge_index=[2, 48], x=[12, 3], y=[1]), Data(edge_index=[2, 80], x=[24, 3], y=[1]), Data(edge_index=[2, 96], x=[23, 3], y=[1]), Data(edge_index=[2, 164], x=[38, 3], y=[1]), Data(edge_index=[2, 200], x=[56, 3], y=[1]), Data(edge_index=[2, 136], x=[33, 3], y=[1]), Data(edge_index=[2, 74], x=[21, 3], y=[1]), Data(edge_index=[2, 182], x=[40, 3], y=[1]), Data(edge_index=[2, 44], x=[11, 3], y=[1]), Data(edge_index=[2, 134], x=[37, 3], y=[1]), Data(edge_index=[2, 150], x=[42, 3], y=[1]), Data(edge_index=[2, 134], x=[38, 3], y=[1]), Data(edge_index=[2, 198], x=[54, 3], y=[1]), Data(edge_index=[2, 74], x=[19, 3], y=[1]), Data(edge_index=[2, 146], x=[40, 3], y=[1]), Data(edge_index=[2, 172], x=[41, 3], y=[1]), Data(edge_index=[2, 72], x=[22, 3], y=[1]), Data(edge_index=[2, 152], x=[84, 3], y=[1]), Data(edge_index=[2, 50], x=[12, 3], y=[1]), Data(edge_index=[2, 220], x=[58, 3], y=[1]), Data(edge_index=[2, 158], x=[47, 3], y=[1]), Data(edge_index=[2, 52], x=[14, 3], y=[1]), Data(edge_index=[2, 52], x=[14, 3], y=[1]), Data(edge_index=[2, 196], x=[55, 3], y=[1]), Data(edge_index=[2, 102], x=[28, 3], y=[1]), Data(edge_index=[2, 98], x=[26, 3], y=[1]), Data(edge_index=[2, 198], x=[52, 3], y=[1]), Data(edge_index=[2, 120], x=[32, 3], y=[1]), Data(edge_index=[2, 214], x=[57, 3], y=[1]), Data(edge_index=[2, 188], x=[49, 3], y=[1]), Data(edge_index=[2, 148], x=[36, 3], y=[1]), Data(edge_index=[2, 60], x=[15, 3], y=[1]), Data(edge_index=[2, 102], x=[26, 3], y=[1]), Data(edge_index=[2, 90], x=[20, 3], y=[1]), Data(edge_index=[2, 50], x=[15, 3], y=[1]), Data(edge_index=[2, 168], x=[37, 3], y=[1]), Data(edge_index=[2, 64], x=[18, 3], y=[1]), Data(edge_index=[2, 158], x=[41, 3], y=[1]), Data(edge_index=[2, 154], x=[40, 3], y=[1]), Data(edge_index=[2, 44], x=[11, 3], y=[1]), Data(edge_index=[2, 148], x=[35, 3], y=[1]), Data(edge_index=[2, 112], x=[28, 3], y=[1]), Data(edge_index=[2, 144], x=[39, 3], y=[1]), Data(edge_index=[2, 108], x=[28, 3], y=[1]), Data(edge_index=[2, 148], x=[38, 3], y=[1]), Data(edge_index=[2, 184], x=[42, 3], y=[1]), Data(edge_index=[2, 142], x=[33, 3], y=[1]), Data(edge_index=[2, 82], x=[19, 3], y=[1]), Data(edge_index=[2, 156], x=[44, 3], y=[1]), Data(edge_index=[2, 90], x=[21, 3], y=[1]), Data(edge_index=[2, 142], x=[35, 3], y=[1]), Data(edge_index=[2, 158], x=[37, 3], y=[1]), Data(edge_index=[2, 102], x=[26, 3], y=[1]), Data(edge_index=[2, 80], x=[20, 3], y=[1]), Data(edge_index=[2, 188], x=[40, 3], y=[1]), Data(edge_index=[2, 218], x=[96, 3], y=[1]), Data(edge_index=[2, 104], x=[23, 3], y=[1]), Data(edge_index=[2, 158], x=[38, 3], y=[1]), Data(edge_index=[2, 80], x=[18, 3], y=[1]), Data(edge_index=[2, 116], x=[30, 3], y=[1]), Data(edge_index=[2, 154], x=[41, 3], y=[1]), Data(edge_index=[2, 188], x=[42, 3], y=[1]), Data(edge_index=[2, 158], x=[39, 3], y=[1]), Data(edge_index=[2, 58], x=[16, 3], y=[1]), Data(edge_index=[2, 180], x=[41, 3], y=[1]), Data(edge_index=[2, 178], x=[50, 3], y=[1]), Data(edge_index=[2, 186], x=[49, 3], y=[1]), Data(edge_index=[2, 76], x=[22, 3], y=[1]), Data(edge_index=[2, 166], x=[37, 3], y=[1]), Data(edge_index=[2, 164], x=[42, 3], y=[1]), Data(edge_index=[2, 102], x=[25, 3], y=[1]), Data(edge_index=[2, 98], x=[28, 3], y=[1]), Data(edge_index=[2, 148], x=[32, 3], y=[1]), Data(edge_index=[2, 108], x=[30, 3], y=[1]), Data(edge_index=[2, 106], x=[32, 3], y=[1]), Data(edge_index=[2, 94], x=[23, 3], y=[1]), Data(edge_index=[2, 132], x=[40, 3], y=[1]), Data(edge_index=[2, 90], x=[25, 3], y=[1]), Data(edge_index=[2, 164], x=[46, 3], y=[1]), Data(edge_index=[2, 82], x=[24, 3], y=[1]), Data(edge_index=[2, 176], x=[43, 3], y=[1]), Data(edge_index=[2, 166], x=[42, 3], y=[1]), Data(edge_index=[2, 242], x=[96, 3], y=[1]), Data(edge_index=[2, 110], x=[25, 3], y=[1]), Data(edge_index=[2, 106], x=[27, 3], y=[1]), Data(edge_index=[2, 194], x=[48, 3], y=[1]), Data(edge_index=[2, 128], x=[31, 3], y=[1]), Data(edge_index=[2, 82], x=[18, 3], y=[1]), Data(edge_index=[2, 184], x=[47, 3], y=[1]), Data(edge_index=[2, 104], x=[28, 3], y=[1]), Data(edge_index=[2, 120], x=[32, 3], y=[1]), Data(edge_index=[2, 98], x=[26, 3], y=[1]), Data(edge_index=[2, 156], x=[36, 3], y=[1]), Data(edge_index=[2, 174], x=[42, 3], y=[1]), Data(edge_index=[2, 116], x=[26, 3], y=[1]), Data(edge_index=[2, 146], x=[36, 3], y=[1]), Data(edge_index=[2, 58], x=[16, 3], y=[1]), Data(edge_index=[2, 156], x=[45, 3], y=[1]), Data(edge_index=[2, 86], x=[22, 3], y=[1]), Data(edge_index=[2, 140], x=[35, 3], y=[1]), Data(edge_index=[2, 106], x=[21, 3], y=[1]), Data(edge_index=[2, 150], x=[42, 3], y=[1]), Data(edge_index=[2, 96], x=[24, 3], y=[1]), Data(edge_index=[2, 162], x=[38, 3], y=[1]), Data(edge_index=[2, 130], x=[28, 3], y=[1]), Data(edge_index=[2, 184], x=[41, 3], y=[1]), Data(edge_index=[2, 68], x=[18, 3], y=[1]), Data(edge_index=[2, 102], x=[30, 3], y=[1]), Data(edge_index=[2, 48], x=[12, 3], y=[1]), Data(edge_index=[2, 208], x=[48, 3], y=[1]), Data(edge_index=[2, 130], x=[29, 3], y=[1]), Data(edge_index=[2, 74], x=[18, 3], y=[1]), Data(edge_index=[2, 278], x=[124, 3], y=[1]), Data(edge_index=[2, 98], x=[23, 3], y=[1]), Data(edge_index=[2, 110], x=[29, 3], y=[1]), Data(edge_index=[2, 86], x=[25, 3], y=[1]), Data(edge_index=[2, 44], x=[12, 3], y=[1]), Data(edge_index=[2, 152], x=[33, 3], y=[1]), Data(edge_index=[2, 2], x=[2, 3], y=[1]), Data(edge_index=[2, 170], x=[42, 3], y=[1]), Data(edge_index=[2, 46], x=[14, 3], y=[1]), Data(edge_index=[2, 44], x=[12, 3], y=[1]), Data(edge_index=[2, 120], x=[38, 3], y=[1]), Data(edge_index=[2, 180], x=[44, 3], y=[1]), Data(edge_index=[2, 192], x=[52, 3], y=[1]), Data(edge_index=[2, 92], x=[21, 3], y=[1]), Data(edge_index=[2, 134], x=[39, 3], y=[1]), Data(edge_index=[2, 106], x=[29, 3], y=[1]), Data(edge_index=[2, 72], x=[16, 3], y=[1]), Data(edge_index=[2, 92], x=[24, 3], y=[1]), Data(edge_index=[2, 102], x=[27, 3], y=[1]), Data(edge_index=[2, 72], x=[17, 3], y=[1]), Data(edge_index=[2, 140], x=[43, 3], y=[1]), Data(edge_index=[2, 80], x=[22, 3], y=[1]), Data(edge_index=[2, 152], x=[34, 3], y=[1]), Data(edge_index=[2, 138], x=[39, 3], y=[1]), Data(edge_index=[2, 70], x=[18, 3], y=[1]), Data(edge_index=[2, 134], x=[34, 3], y=[1]), Data(edge_index=[2, 12], x=[4, 3], y=[1]), Data(edge_index=[2, 152], x=[42, 3], y=[1]), Data(edge_index=[2, 108], x=[27, 3], y=[1]), Data(edge_index=[2, 104], x=[27, 3], y=[1]), Data(edge_index=[2, 216], x=[62, 3], y=[1]), Data(edge_index=[2, 62], x=[14, 3], y=[1]), Data(edge_index=[2, 240], x=[74, 3], y=[1]), Data(edge_index=[2, 98], x=[25, 3], y=[1]), Data(edge_index=[2, 112], x=[34, 3], y=[1]), Data(edge_index=[2, 202], x=[57, 3], y=[1]), Data(edge_index=[2, 46], x=[14, 3], y=[1]), Data(edge_index=[2, 170], x=[40, 3], y=[1]), Data(edge_index=[2, 84], x=[21, 3], y=[1]), Data(edge_index=[2, 140], x=[38, 3], y=[1]), Data(edge_index=[2, 130], x=[29, 3], y=[1]), Data(edge_index=[2, 186], x=[46, 3], y=[1]), Data(edge_index=[2, 132], x=[29, 3], y=[1]), Data(edge_index=[2, 132], x=[31, 3], y=[1]), Data(edge_index=[2, 102], x=[32, 3], y=[1]), Data(edge_index=[2, 164], x=[42, 3], y=[1]), Data(edge_index=[2, 78], x=[20, 3], y=[1]), Data(edge_index=[2, 70], x=[21, 3], y=[1]), Data(edge_index=[2, 180], x=[44, 3], y=[1]), Data(edge_index=[2, 168], x=[50, 3], y=[1]), Data(edge_index=[2, 136], x=[33, 3], y=[1]), Data(edge_index=[2, 60], x=[17, 3], y=[1]), Data(edge_index=[2, 48], x=[12, 3], y=[1]), Data(edge_index=[2, 98], x=[26, 3], y=[1]), Data(edge_index=[2, 80], x=[22, 3], y=[1]), Data(edge_index=[2, 86], x=[21, 3], y=[1]), Data(edge_index=[2, 74], x=[24, 3], y=[1]), Data(edge_index=[2, 118], x=[28, 3], y=[1]), Data(edge_index=[2, 122], x=[32, 3], y=[1]), Data(edge_index=[2, 44], x=[13, 3], y=[1]), Data(edge_index=[2, 70], x=[18, 3], y=[1]), Data(edge_index=[2, 142], x=[36, 3], y=[1]), Data(edge_index=[2, 74], x=[26, 3], y=[1]), Data(edge_index=[2, 52], x=[13, 3], y=[1]), Data(edge_index=[2, 114], x=[30, 3], y=[1]), Data(edge_index=[2, 172], x=[50, 3], y=[1]), Data(edge_index=[2, 148], x=[41, 3], y=[1]), Data(edge_index=[2, 236], x=[64, 3], y=[1]), Data(edge_index=[2, 108], x=[28, 3], y=[1]), Data(edge_index=[2, 112], x=[27, 3], y=[1]), Data(edge_index=[2, 102], x=[26, 3], y=[1]), Data(edge_index=[2, 180], x=[42, 3], y=[1]), Data(edge_index=[2, 32], x=[9, 3], y=[1]), Data(edge_index=[2, 6], x=[3, 3], y=[1]), Data(edge_index=[2, 164], x=[42, 3], y=[1]), Data(edge_index=[2, 190], x=[40, 3], y=[1]), Data(edge_index=[2, 104], x=[27, 3], y=[1]), Data(edge_index=[2, 28], x=[8, 3], y=[1]), Data(edge_index=[2, 84], x=[23, 3], y=[1]), Data(edge_index=[2, 66], x=[14, 3], y=[1]), Data(edge_index=[2, 122], x=[32, 3], y=[1]), Data(edge_index=[2, 158], x=[40, 3], y=[1]), Data(edge_index=[2, 56], x=[14, 3], y=[1]), Data(edge_index=[2, 128], x=[34, 3], y=[1]), Data(edge_index=[2, 102], x=[24, 3], y=[1]), Data(edge_index=[2, 98], x=[20, 3], y=[1]), Data(edge_index=[2, 192], x=[44, 3], y=[1]), Data(edge_index=[2, 184], x=[44, 3], y=[1]), Data(edge_index=[2, 86], x=[25, 3], y=[1]), Data(edge_index=[2, 84], x=[22, 3], y=[1]), Data(edge_index=[2, 102], x=[23, 3], y=[1]), Data(edge_index=[2, 200], x=[55, 3], y=[1]), Data(edge_index=[2, 66], x=[14, 3], y=[1]), Data(edge_index=[2, 178], x=[51, 3], y=[1]), Data(edge_index=[2, 108], x=[26, 3], y=[1]), Data(edge_index=[2, 80], x=[22, 3], y=[1]), Data(edge_index=[2, 146], x=[39, 3], y=[1]), Data(edge_index=[2, 136], x=[32, 3], y=[1]), Data(edge_index=[2, 132], x=[34, 3], y=[1]), Data(edge_index=[2, 128], x=[33, 3], y=[1]), Data(edge_index=[2, 18], x=[5, 3], y=[1]), Data(edge_index=[2, 192], x=[48, 3], y=[1]), Data(edge_index=[2, 98], x=[27, 3], y=[1]), Data(edge_index=[2, 68], x=[17, 3], y=[1]), Data(edge_index=[2, 68], x=[15, 3], y=[1]), Data(edge_index=[2, 68], x=[13, 3], y=[1]), Data(edge_index=[2, 166], x=[39, 3], y=[1]), Data(edge_index=[2, 78], x=[23, 3], y=[1]), Data(edge_index=[2, 96], x=[26, 3], y=[1]), Data(edge_index=[2, 40], x=[11, 3], y=[1]), Data(edge_index=[2, 22], x=[6, 3], y=[1]), Data(edge_index=[2, 32], x=[8, 3], y=[1]), Data(edge_index=[2, 74], x=[18, 3], y=[1]), Data(edge_index=[2, 52], x=[13, 3], y=[1]), Data(edge_index=[2, 152], x=[38, 3], y=[1]), Data(edge_index=[2, 122], x=[39, 3], y=[1]), Data(edge_index=[2, 154], x=[36, 3], y=[1]), Data(edge_index=[2, 146], x=[34, 3], y=[1]), Data(edge_index=[2, 120], x=[30, 3], y=[1]), Data(edge_index=[2, 84], x=[21, 3], y=[1]), Data(edge_index=[2, 52], x=[14, 3], y=[1]), Data(edge_index=[2, 196], x=[43, 3], y=[1]), Data(edge_index=[2, 104], x=[27, 3], y=[1]), Data(edge_index=[2, 172], x=[41, 3], y=[1]), Data(edge_index=[2, 114], x=[37, 3], y=[1]), Data(edge_index=[2, 298], x=[122, 3], y=[1]), Data(edge_index=[2, 64], x=[16, 3], y=[1]), Data(edge_index=[2, 140], x=[32, 3], y=[1]), Data(edge_index=[2, 168], x=[40, 3], y=[1]), Data(edge_index=[2, 110], x=[33, 3], y=[1]), Data(edge_index=[2, 114], x=[28, 3], y=[1]), Data(edge_index=[2, 240], x=[66, 3], y=[1]), Data(edge_index=[2, 104], x=[29, 3], y=[1]), Data(edge_index=[2, 138], x=[33, 3], y=[1]), Data(edge_index=[2, 30], x=[8, 3], y=[1]), Data(edge_index=[2, 164], x=[47, 3], y=[1]), Data(edge_index=[2, 112], x=[25, 3], y=[1]), Data(edge_index=[2, 44], x=[12, 3], y=[1]), Data(edge_index=[2, 198], x=[48, 3], y=[1]), Data(edge_index=[2, 110], x=[28, 3], y=[1]), Data(edge_index=[2, 168], x=[42, 3], y=[1]), Data(edge_index=[2, 142], x=[39, 3], y=[1]), Data(edge_index=[2, 78], x=[24, 3], y=[1]), Data(edge_index=[2, 44], x=[12, 3], y=[1]), Data(edge_index=[2, 76], x=[24, 3], y=[1]), Data(edge_index=[2, 134], x=[34, 3], y=[1]), Data(edge_index=[2, 92], x=[25, 3], y=[1]), Data(edge_index=[2, 40], x=[10, 3], y=[1]), Data(edge_index=[2, 102], x=[25, 3], y=[1]), Data(edge_index=[2, 178], x=[44, 3], y=[1]), Data(edge_index=[2, 222], x=[48, 3], y=[1]), Data(edge_index=[2, 84], x=[33, 3], y=[1]), Data(edge_index=[2, 210], x=[57, 3], y=[1]), Data(edge_index=[2, 102], x=[24, 3], y=[1]), Data(edge_index=[2, 36], x=[10, 3], y=[1]), Data(edge_index=[2, 176], x=[45, 3], y=[1]), Data(edge_index=[2, 190], x=[45, 3], y=[1]), Data(edge_index=[2, 162], x=[40, 3], y=[1]), Data(edge_index=[2, 86], x=[24, 3], y=[1]), Data(edge_index=[2, 254], x=[90, 3], y=[1]), Data(edge_index=[2, 148], x=[40, 3], y=[1]), Data(edge_index=[2, 62], x=[13, 3], y=[1])]\n",
      "[Data(edge_index=[2, 104], x=[27, 3], y=[1]), Data(edge_index=[2, 52], x=[14, 3], y=[1]), Data(edge_index=[2, 128], x=[33, 3], y=[1]), Data(edge_index=[2, 118], x=[26, 3], y=[1]), Data(edge_index=[2, 190], x=[42, 3], y=[1]), Data(edge_index=[2, 134], x=[34, 3], y=[1]), Data(edge_index=[2, 108], x=[28, 3], y=[1]), Data(edge_index=[2, 192], x=[46, 3], y=[1]), Data(edge_index=[2, 130], x=[28, 3], y=[1]), Data(edge_index=[2, 48], x=[12, 3], y=[1]), Data(edge_index=[2, 142], x=[33, 3], y=[1]), Data(edge_index=[2, 100], x=[24, 3], y=[1]), Data(edge_index=[2, 72], x=[20, 3], y=[1]), Data(edge_index=[2, 124], x=[28, 3], y=[1]), Data(edge_index=[2, 196], x=[48, 3], y=[1]), Data(edge_index=[2, 70], x=[21, 3], y=[1]), Data(edge_index=[2, 114], x=[29, 3], y=[1]), Data(edge_index=[2, 44], x=[12, 3], y=[1]), Data(edge_index=[2, 68], x=[15, 3], y=[1]), Data(edge_index=[2, 118], x=[31, 3], y=[1]), Data(edge_index=[2, 192], x=[48, 3], y=[1]), Data(edge_index=[2, 166], x=[43, 3], y=[1]), Data(edge_index=[2, 148], x=[42, 3], y=[1]), Data(edge_index=[2, 76], x=[24, 3], y=[1]), Data(edge_index=[2, 120], x=[32, 3], y=[1]), Data(edge_index=[2, 116], x=[26, 3], y=[1]), Data(edge_index=[2, 100], x=[24, 3], y=[1]), Data(edge_index=[2, 84], x=[25, 3], y=[1]), Data(edge_index=[2, 164], x=[46, 3], y=[1]), Data(edge_index=[2, 218], x=[96, 3], y=[1]), Data(edge_index=[2, 68], x=[18, 3], y=[1]), Data(edge_index=[2, 64], x=[18, 3], y=[1]), Data(edge_index=[2, 92], x=[22, 3], y=[1]), Data(edge_index=[2, 170], x=[39, 3], y=[1]), Data(edge_index=[2, 110], x=[28, 3], y=[1]), Data(edge_index=[2, 214], x=[57, 3], y=[1]), Data(edge_index=[2, 80], x=[22, 3], y=[1]), Data(edge_index=[2, 46], x=[14, 3], y=[1]), Data(edge_index=[2, 102], x=[30, 3], y=[1]), Data(edge_index=[2, 196], x=[50, 3], y=[1]), Data(edge_index=[2, 144], x=[34, 3], y=[1]), Data(edge_index=[2, 122], x=[36, 3], y=[1]), Data(edge_index=[2, 196], x=[55, 3], y=[1]), Data(edge_index=[2, 152], x=[34, 3], y=[1]), Data(edge_index=[2, 134], x=[35, 3], y=[1]), Data(edge_index=[2, 94], x=[22, 3], y=[1]), Data(edge_index=[2, 84], x=[21, 3], y=[1]), Data(edge_index=[2, 186], x=[49, 3], y=[1]), Data(edge_index=[2, 52], x=[14, 3], y=[1]), Data(edge_index=[2, 136], x=[36, 3], y=[1]), Data(edge_index=[2, 104], x=[30, 3], y=[1]), Data(edge_index=[2, 144], x=[39, 3], y=[1]), Data(edge_index=[2, 198], x=[51, 3], y=[1]), Data(edge_index=[2, 152], x=[42, 3], y=[1]), Data(edge_index=[2, 24], x=[7, 3], y=[1]), Data(edge_index=[2, 190], x=[45, 3], y=[1]), Data(edge_index=[2, 94], x=[25, 3], y=[1]), Data(edge_index=[2, 110], x=[28, 3], y=[1]), Data(edge_index=[2, 158], x=[41, 3], y=[1]), Data(edge_index=[2, 154], x=[42, 3], y=[1]), Data(edge_index=[2, 84], x=[22, 3], y=[1]), Data(edge_index=[2, 102], x=[26, 3], y=[1]), Data(edge_index=[2, 134], x=[34, 3], y=[1]), Data(edge_index=[2, 50], x=[12, 3], y=[1]), Data(edge_index=[2, 52], x=[14, 3], y=[1]), Data(edge_index=[2, 92], x=[22, 3], y=[1]), Data(edge_index=[2, 190], x=[40, 3], y=[1]), Data(edge_index=[2, 140], x=[38, 3], y=[1]), Data(edge_index=[2, 102], x=[27, 3], y=[1]), Data(edge_index=[2, 188], x=[44, 3], y=[1]), Data(edge_index=[2, 174], x=[52, 3], y=[1]), Data(edge_index=[2, 96], x=[24, 3], y=[1]), Data(edge_index=[2, 92], x=[24, 3], y=[1]), Data(edge_index=[2, 146], x=[34, 3], y=[1]), Data(edge_index=[2, 98], x=[29, 3], y=[1]), Data(edge_index=[2, 146], x=[40, 3], y=[1]), Data(edge_index=[2, 176], x=[38, 3], y=[1]), Data(edge_index=[2, 90], x=[20, 3], y=[1]), Data(edge_index=[2, 184], x=[47, 3], y=[1]), Data(edge_index=[2, 66], x=[18, 3], y=[1]), Data(edge_index=[2, 194], x=[46, 3], y=[1]), Data(edge_index=[2, 220], x=[51, 3], y=[1]), Data(edge_index=[2, 78], x=[23, 3], y=[1]), Data(edge_index=[2, 110], x=[29, 3], y=[1]), Data(edge_index=[2, 84], x=[19, 3], y=[1]), Data(edge_index=[2, 120], x=[27, 3], y=[1]), Data(edge_index=[2, 98], x=[25, 3], y=[1]), Data(edge_index=[2, 168], x=[42, 3], y=[1]), Data(edge_index=[2, 92], x=[25, 3], y=[1]), Data(edge_index=[2, 48], x=[12, 3], y=[1]), Data(edge_index=[2, 100], x=[22, 3], y=[1]), Data(edge_index=[2, 92], x=[22, 3], y=[1]), Data(edge_index=[2, 136], x=[32, 3], y=[1]), Data(edge_index=[2, 82], x=[19, 3], y=[1]), Data(edge_index=[2, 70], x=[18, 3], y=[1]), Data(edge_index=[2, 120], x=[32, 3], y=[1]), Data(edge_index=[2, 56], x=[14, 3], y=[1]), Data(edge_index=[2, 116], x=[30, 3], y=[1]), Data(edge_index=[2, 106], x=[29, 3], y=[1]), Data(edge_index=[2, 200], x=[60, 3], y=[1]), Data(edge_index=[2, 164], x=[38, 3], y=[1]), Data(edge_index=[2, 104], x=[30, 3], y=[1]), Data(edge_index=[2, 122], x=[38, 3], y=[1]), Data(edge_index=[2, 126], x=[34, 3], y=[1]), Data(edge_index=[2, 74], x=[18, 3], y=[1]), Data(edge_index=[2, 110], x=[25, 3], y=[1]), Data(edge_index=[2, 92], x=[20, 3], y=[1]), Data(edge_index=[2, 132], x=[31, 3], y=[1]), Data(edge_index=[2, 102], x=[25, 3], y=[1]), Data(edge_index=[2, 158], x=[39, 3], y=[1]), Data(edge_index=[2, 140], x=[35, 3], y=[1]), Data(edge_index=[2, 176], x=[37, 3], y=[1]), Data(edge_index=[2, 98], x=[26, 3], y=[1]), Data(edge_index=[2, 154], x=[55, 3], y=[1]), Data(edge_index=[2, 150], x=[38, 3], y=[1]), Data(edge_index=[2, 96], x=[26, 3], y=[1]), Data(edge_index=[2, 152], x=[38, 3], y=[1]), Data(edge_index=[2, 74], x=[20, 3], y=[1]), Data(edge_index=[2, 178], x=[42, 3], y=[1]), Data(edge_index=[2, 100], x=[24, 3], y=[1]), Data(edge_index=[2, 52], x=[15, 3], y=[1]), Data(edge_index=[2, 64], x=[16, 3], y=[1]), Data(edge_index=[2, 182], x=[40, 3], y=[1]), Data(edge_index=[2, 172], x=[41, 3], y=[1]), Data(edge_index=[2, 166], x=[42, 3], y=[1]), Data(edge_index=[2, 98], x=[26, 3], y=[1]), Data(edge_index=[2, 184], x=[44, 3], y=[1]), Data(edge_index=[2, 80], x=[22, 3], y=[1]), Data(edge_index=[2, 172], x=[50, 3], y=[1]), Data(edge_index=[2, 164], x=[42, 3], y=[1]), Data(edge_index=[2, 52], x=[14, 3], y=[1]), Data(edge_index=[2, 78], x=[24, 3], y=[1]), Data(edge_index=[2, 140], x=[39, 3], y=[1]), Data(edge_index=[2, 22], x=[6, 3], y=[1]), Data(edge_index=[2, 108], x=[26, 3], y=[1]), Data(edge_index=[2, 98], x=[28, 3], y=[1]), Data(edge_index=[2, 80], x=[22, 3], y=[1]), Data(edge_index=[2, 70], x=[18, 3], y=[1]), Data(edge_index=[2, 102], x=[30, 3], y=[1]), Data(edge_index=[2, 90], x=[23, 3], y=[1]), Data(edge_index=[2, 160], x=[39, 3], y=[1]), Data(edge_index=[2, 206], x=[60, 3], y=[1]), Data(edge_index=[2, 154], x=[34, 3], y=[1]), Data(edge_index=[2, 90], x=[24, 3], y=[1]), Data(edge_index=[2, 102], x=[27, 3], y=[1]), Data(edge_index=[2, 130], x=[32, 3], y=[1]), Data(edge_index=[2, 140], x=[36, 3], y=[1]), Data(edge_index=[2, 86], x=[21, 3], y=[1]), Data(edge_index=[2, 102], x=[28, 3], y=[1]), Data(edge_index=[2, 122], x=[27, 3], y=[1]), Data(edge_index=[2, 186], x=[46, 3], y=[1]), Data(edge_index=[2, 112], x=[33, 3], y=[1]), Data(edge_index=[2, 120], x=[32, 3], y=[1]), Data(edge_index=[2, 104], x=[29, 3], y=[1]), Data(edge_index=[2, 102], x=[24, 3], y=[1]), Data(edge_index=[2, 80], x=[18, 3], y=[1]), Data(edge_index=[2, 134], x=[37, 3], y=[1]), Data(edge_index=[2, 66], x=[14, 3], y=[1]), Data(edge_index=[2, 116], x=[33, 3], y=[1]), Data(edge_index=[2, 100], x=[24, 3], y=[1]), Data(edge_index=[2, 136], x=[33, 3], y=[1]), Data(edge_index=[2, 188], x=[42, 3], y=[1]), Data(edge_index=[2, 142], x=[37, 3], y=[1]), Data(edge_index=[2, 198], x=[54, 3], y=[1]), Data(edge_index=[2, 176], x=[43, 3], y=[1]), Data(edge_index=[2, 122], x=[39, 3], y=[1]), Data(edge_index=[2, 170], x=[44, 3], y=[1]), Data(edge_index=[2, 102], x=[23, 3], y=[1]), Data(edge_index=[2, 104], x=[27, 3], y=[1]), Data(edge_index=[2, 112], x=[30, 3], y=[1]), Data(edge_index=[2, 164], x=[45, 3], y=[1]), Data(edge_index=[2, 154], x=[41, 3], y=[1]), Data(edge_index=[2, 98], x=[22, 3], y=[1]), Data(edge_index=[2, 106], x=[32, 3], y=[1]), Data(edge_index=[2, 148], x=[35, 3], y=[1]), Data(edge_index=[2, 152], x=[41, 3], y=[1]), Data(edge_index=[2, 128], x=[32, 3], y=[1]), Data(edge_index=[2, 188], x=[48, 3], y=[1]), Data(edge_index=[2, 182], x=[38, 3], y=[1]), Data(edge_index=[2, 38], x=[11, 3], y=[1]), Data(edge_index=[2, 156], x=[41, 3], y=[1]), Data(edge_index=[2, 164], x=[42, 3], y=[1]), Data(edge_index=[2, 84], x=[23, 3], y=[1]), Data(edge_index=[2, 94], x=[25, 3], y=[1]), Data(edge_index=[2, 118], x=[28, 3], y=[1]), Data(edge_index=[2, 176], x=[41, 3], y=[1]), Data(edge_index=[2, 64], x=[16, 3], y=[1]), Data(edge_index=[2, 198], x=[48, 3], y=[1]), Data(edge_index=[2, 148], x=[36, 3], y=[1]), Data(edge_index=[2, 74], x=[19, 3], y=[1]), Data(edge_index=[2, 208], x=[62, 3], y=[1]), Data(edge_index=[2, 146], x=[41, 3], y=[1]), Data(edge_index=[2, 180], x=[42, 3], y=[1]), Data(edge_index=[2, 164], x=[42, 3], y=[1]), Data(edge_index=[2, 82], x=[29, 3], y=[1]), Data(edge_index=[2, 92], x=[21, 3], y=[1]), Data(edge_index=[2, 58], x=[15, 3], y=[1]), Data(edge_index=[2, 160], x=[67, 3], y=[1]), Data(edge_index=[2, 170], x=[40, 3], y=[1]), Data(edge_index=[2, 132], x=[35, 3], y=[1]), Data(edge_index=[2, 66], x=[15, 3], y=[1]), Data(edge_index=[2, 96], x=[28, 3], y=[1]), Data(edge_index=[2, 142], x=[36, 3], y=[1]), Data(edge_index=[2, 188], x=[43, 3], y=[1]), Data(edge_index=[2, 88], x=[23, 3], y=[1]), Data(edge_index=[2, 132], x=[34, 3], y=[1]), Data(edge_index=[2, 178], x=[51, 3], y=[1]), Data(edge_index=[2, 98], x=[23, 3], y=[1]), Data(edge_index=[2, 192], x=[52, 3], y=[1]), Data(edge_index=[2, 164], x=[47, 3], y=[1]), Data(edge_index=[2, 132], x=[29, 3], y=[1]), Data(edge_index=[2, 160], x=[60, 3], y=[1]), Data(edge_index=[2, 112], x=[28, 3], y=[1]), Data(edge_index=[2, 164], x=[37, 3], y=[1]), Data(edge_index=[2, 98], x=[24, 3], y=[1]), Data(edge_index=[2, 190], x=[47, 3], y=[1]), Data(edge_index=[2, 72], x=[17, 3], y=[1]), Data(edge_index=[2, 198], x=[48, 3], y=[1]), Data(edge_index=[2, 196], x=[51, 3], y=[1]), Data(edge_index=[2, 92], x=[24, 3], y=[1]), Data(edge_index=[2, 162], x=[40, 3], y=[1]), Data(edge_index=[2, 150], x=[38, 3], y=[1]), Data(edge_index=[2, 124], x=[34, 3], y=[1]), Data(edge_index=[2, 102], x=[27, 3], y=[1]), Data(edge_index=[2, 140], x=[35, 3], y=[1]), Data(edge_index=[2, 142], x=[38, 3], y=[1]), Data(edge_index=[2, 58], x=[16, 3], y=[1]), Data(edge_index=[2, 122], x=[32, 3], y=[1]), Data(edge_index=[2, 112], x=[27, 3], y=[1]), Data(edge_index=[2, 44], x=[13, 3], y=[1]), Data(edge_index=[2, 90], x=[26, 3], y=[1]), Data(edge_index=[2, 46], x=[12, 3], y=[1]), Data(edge_index=[2, 160], x=[39, 3], y=[1]), Data(edge_index=[2, 144], x=[46, 3], y=[1]), Data(edge_index=[2, 84], x=[33, 3], y=[1]), Data(edge_index=[2, 152], x=[84, 3], y=[1]), Data(edge_index=[2, 170], x=[42, 3], y=[1]), Data(edge_index=[2, 44], x=[11, 3], y=[1]), Data(edge_index=[2, 114], x=[37, 3], y=[1]), Data(edge_index=[2, 278], x=[124, 3], y=[1]), Data(edge_index=[2, 78], x=[23, 3], y=[1]), Data(edge_index=[2, 84], x=[21, 3], y=[1]), Data(edge_index=[2, 190], x=[44, 3], y=[1]), Data(edge_index=[2, 224], x=[66, 3], y=[1]), Data(edge_index=[2, 208], x=[48, 3], y=[1]), Data(edge_index=[2, 128], x=[32, 3], y=[1]), Data(edge_index=[2, 170], x=[44, 3], y=[1]), Data(edge_index=[2, 158], x=[47, 3], y=[1]), Data(edge_index=[2, 200], x=[46, 3], y=[1]), Data(edge_index=[2, 114], x=[26, 3], y=[1]), Data(edge_index=[2, 100], x=[23, 3], y=[1]), Data(edge_index=[2, 48], x=[12, 3], y=[1]), Data(edge_index=[2, 230], x=[59, 3], y=[1]), Data(edge_index=[2, 102], x=[26, 3], y=[1]), Data(edge_index=[2, 150], x=[42, 3], y=[1]), Data(edge_index=[2, 60], x=[17, 3], y=[1]), Data(edge_index=[2, 50], x=[14, 3], y=[1]), Data(edge_index=[2, 128], x=[33, 3], y=[1]), Data(edge_index=[2, 156], x=[44, 3], y=[1]), Data(edge_index=[2, 148], x=[41, 3], y=[1]), Data(edge_index=[2, 140], x=[32, 3], y=[1]), Data(edge_index=[2, 66], x=[18, 3], y=[1]), Data(edge_index=[2, 102], x=[25, 3], y=[1]), Data(edge_index=[2, 102], x=[23, 3], y=[1]), Data(edge_index=[2, 134], x=[30, 3], y=[1]), Data(edge_index=[2, 114], x=[28, 3], y=[1]), Data(edge_index=[2, 160], x=[42, 3], y=[1]), Data(edge_index=[2, 184], x=[41, 3], y=[1]), Data(edge_index=[2, 192], x=[48, 3], y=[1]), Data(edge_index=[2, 80], x=[24, 3], y=[1]), Data(edge_index=[2, 158], x=[35, 3], y=[1]), Data(edge_index=[2, 48], x=[12, 3], y=[1]), Data(edge_index=[2, 190], x=[44, 3], y=[1]), Data(edge_index=[2, 168], x=[40, 3], y=[1]), Data(edge_index=[2, 192], x=[44, 3], y=[1]), Data(edge_index=[2, 164], x=[40, 3], y=[1]), Data(edge_index=[2, 178], x=[50, 3], y=[1]), Data(edge_index=[2, 70], x=[19, 3], y=[1]), Data(edge_index=[2, 68], x=[19, 3], y=[1]), Data(edge_index=[2, 136], x=[33, 3], y=[1]), Data(edge_index=[2, 158], x=[41, 3], y=[1]), Data(edge_index=[2, 44], x=[12, 3], y=[1]), Data(edge_index=[2, 44], x=[12, 3], y=[1]), Data(edge_index=[2, 72], x=[16, 3], y=[1]), Data(edge_index=[2, 102], x=[26, 3], y=[1]), Data(edge_index=[2, 128], x=[31, 3], y=[1]), Data(edge_index=[2, 104], x=[27, 3], y=[1]), Data(edge_index=[2, 82], x=[24, 3], y=[1]), Data(edge_index=[2, 158], x=[37, 3], y=[1]), Data(edge_index=[2, 58], x=[16, 3], y=[1]), Data(edge_index=[2, 48], x=[12, 3], y=[1]), Data(edge_index=[2, 108], x=[30, 3], y=[1]), Data(edge_index=[2, 158], x=[34, 3], y=[1]), Data(edge_index=[2, 156], x=[45, 3], y=[1]), Data(edge_index=[2, 138], x=[33, 3], y=[1]), Data(edge_index=[2, 140], x=[34, 3], y=[1]), Data(edge_index=[2, 200], x=[56, 3], y=[1]), Data(edge_index=[2, 76], x=[20, 3], y=[1]), Data(edge_index=[2, 128], x=[34, 3], y=[1]), Data(edge_index=[2, 80], x=[24, 3], y=[1]), Data(edge_index=[2, 54], x=[15, 3], y=[1]), Data(edge_index=[2, 76], x=[22, 3], y=[1]), Data(edge_index=[2, 190], x=[51, 3], y=[1]), Data(edge_index=[2, 60], x=[17, 3], y=[1]), Data(edge_index=[2, 122], x=[32, 3], y=[1]), Data(edge_index=[2, 188], x=[40, 3], y=[1]), Data(edge_index=[2, 266], x=[88, 3], y=[1]), Data(edge_index=[2, 90], x=[20, 3], y=[1]), Data(edge_index=[2, 168], x=[40, 3], y=[1]), Data(edge_index=[2, 174], x=[40, 3], y=[1]), Data(edge_index=[2, 46], x=[14, 3], y=[1]), Data(edge_index=[2, 96], x=[22, 3], y=[1]), Data(edge_index=[2, 70], x=[19, 3], y=[1]), Data(edge_index=[2, 112], x=[34, 3], y=[1]), Data(edge_index=[2, 86], x=[21, 3], y=[1]), Data(edge_index=[2, 240], x=[74, 3], y=[1]), Data(edge_index=[2, 76], x=[20, 3], y=[1]), Data(edge_index=[2, 152], x=[42, 3], y=[1]), Data(edge_index=[2, 56], x=[15, 3], y=[1]), Data(edge_index=[2, 98], x=[20, 3], y=[1]), Data(edge_index=[2, 64], x=[18, 3], y=[1]), Data(edge_index=[2, 84], x=[21, 3], y=[1]), Data(edge_index=[2, 12], x=[4, 3], y=[1]), Data(edge_index=[2, 198], x=[52, 3], y=[1]), Data(edge_index=[2, 120], x=[30, 3], y=[1]), Data(edge_index=[2, 166], x=[37, 3], y=[1]), Data(edge_index=[2, 82], x=[21, 3], y=[1]), Data(edge_index=[2, 74], x=[21, 3], y=[1]), Data(edge_index=[2, 58], x=[17, 3], y=[1]), Data(edge_index=[2, 154], x=[40, 3], y=[1]), Data(edge_index=[2, 142], x=[39, 3], y=[1]), Data(edge_index=[2, 64], x=[18, 3], y=[1]), Data(edge_index=[2, 40], x=[11, 3], y=[1]), Data(edge_index=[2, 184], x=[49, 3], y=[1]), Data(edge_index=[2, 124], x=[31, 3], y=[1]), Data(edge_index=[2, 88], x=[26, 3], y=[1]), Data(edge_index=[2, 152], x=[39, 3], y=[1]), Data(edge_index=[2, 166], x=[46, 3], y=[1]), Data(edge_index=[2, 134], x=[38, 3], y=[1]), Data(edge_index=[2, 156], x=[48, 3], y=[1]), Data(edge_index=[2, 116], x=[37, 3], y=[1]), Data(edge_index=[2, 66], x=[19, 3], y=[1]), Data(edge_index=[2, 92], x=[24, 3], y=[1]), Data(edge_index=[2, 136], x=[30, 3], y=[1]), Data(edge_index=[2, 146], x=[39, 3], y=[1]), Data(edge_index=[2, 90], x=[24, 3], y=[1]), Data(edge_index=[2, 162], x=[38, 3], y=[1]), Data(edge_index=[2, 164], x=[42, 3], y=[1]), Data(edge_index=[2, 182], x=[45, 3], y=[1]), Data(edge_index=[2, 52], x=[13, 3], y=[1]), Data(edge_index=[2, 82], x=[20, 3], y=[1]), Data(edge_index=[2, 44], x=[12, 3], y=[1]), Data(edge_index=[2, 64], x=[18, 3], y=[1]), Data(edge_index=[2, 152], x=[34, 3], y=[1]), Data(edge_index=[2, 140], x=[43, 3], y=[1]), Data(edge_index=[2, 240], x=[66, 3], y=[1]), Data(edge_index=[2, 150], x=[42, 3], y=[1]), Data(edge_index=[2, 58], x=[16, 3], y=[1]), Data(edge_index=[2, 124], x=[33, 3], y=[1]), Data(edge_index=[2, 140], x=[40, 3], y=[1]), Data(edge_index=[2, 194], x=[48, 3], y=[1]), Data(edge_index=[2, 102], x=[24, 3], y=[1]), Data(edge_index=[2, 32], x=[8, 3], y=[1]), Data(edge_index=[2, 180], x=[42, 3], y=[1]), Data(edge_index=[2, 62], x=[16, 3], y=[1]), Data(edge_index=[2, 80], x=[20, 3], y=[1]), Data(edge_index=[2, 174], x=[42, 3], y=[1]), Data(edge_index=[2, 46], x=[11, 3], y=[1]), Data(edge_index=[2, 158], x=[38, 3], y=[1]), Data(edge_index=[2, 32], x=[9, 3], y=[1]), Data(edge_index=[2, 254], x=[90, 3], y=[1]), Data(edge_index=[2, 68], x=[17, 3], y=[1]), Data(edge_index=[2, 176], x=[41, 3], y=[1]), Data(edge_index=[2, 90], x=[24, 3], y=[1]), Data(edge_index=[2, 144], x=[40, 3], y=[1]), Data(edge_index=[2, 44], x=[12, 3], y=[1]), Data(edge_index=[2, 92], x=[26, 3], y=[1]), Data(edge_index=[2, 168], x=[50, 3], y=[1]), Data(edge_index=[2, 188], x=[49, 3], y=[1]), Data(edge_index=[2, 202], x=[57, 3], y=[1]), Data(edge_index=[2, 198], x=[44, 3], y=[1]), Data(edge_index=[2, 170], x=[44, 3], y=[1]), Data(edge_index=[2, 168], x=[42, 3], y=[1]), Data(edge_index=[2, 198], x=[52, 3], y=[1]), Data(edge_index=[2, 98], x=[27, 3], y=[1]), Data(edge_index=[2, 70], x=[18, 3], y=[1]), Data(edge_index=[2, 106], x=[27, 3], y=[1]), Data(edge_index=[2, 236], x=[64, 3], y=[1]), Data(edge_index=[2, 176], x=[40, 3], y=[1]), Data(edge_index=[2, 128], x=[36, 3], y=[1]), Data(edge_index=[2, 190], x=[45, 3], y=[1]), Data(edge_index=[2, 62], x=[14, 3], y=[1]), Data(edge_index=[2, 148], x=[32, 3], y=[1]), Data(edge_index=[2, 186], x=[50, 3], y=[1]), Data(edge_index=[2, 160], x=[48, 3], y=[1]), Data(edge_index=[2, 130], x=[29, 3], y=[1]), Data(edge_index=[2, 196], x=[52, 3], y=[1]), Data(edge_index=[2, 68], x=[13, 3], y=[1]), Data(edge_index=[2, 194], x=[44, 3], y=[1]), Data(edge_index=[2, 142], x=[35, 3], y=[1]), Data(edge_index=[2, 158], x=[40, 3], y=[1]), Data(edge_index=[2, 106], x=[21, 3], y=[1]), Data(edge_index=[2, 162], x=[39, 3], y=[1]), Data(edge_index=[2, 164], x=[39, 3], y=[1]), Data(edge_index=[2, 164], x=[39, 3], y=[1]), Data(edge_index=[2, 188], x=[44, 3], y=[1]), Data(edge_index=[2, 90], x=[25, 3], y=[1]), Data(edge_index=[2, 62], x=[18, 3], y=[1]), Data(edge_index=[2, 94], x=[23, 3], y=[1]), Data(edge_index=[2, 92], x=[25, 3], y=[1]), Data(edge_index=[2, 152], x=[33, 3], y=[1]), Data(edge_index=[2, 100], x=[26, 3], y=[1]), Data(edge_index=[2, 56], x=[13, 3], y=[1]), Data(edge_index=[2, 56], x=[16, 3], y=[1]), Data(edge_index=[2, 90], x=[25, 3], y=[1]), Data(edge_index=[2, 152], x=[42, 3], y=[1]), Data(edge_index=[2, 210], x=[54, 3], y=[1]), Data(edge_index=[2, 128], x=[31, 3], y=[1]), Data(edge_index=[2, 98], x=[28, 3], y=[1]), Data(edge_index=[2, 110], x=[33, 3], y=[1]), Data(edge_index=[2, 52], x=[13, 3], y=[1]), Data(edge_index=[2, 198], x=[46, 3], y=[1]), Data(edge_index=[2, 162], x=[42, 3], y=[1]), Data(edge_index=[2, 164], x=[44, 3], y=[1]), Data(edge_index=[2, 194], x=[45, 3], y=[1]), Data(edge_index=[2, 102], x=[27, 3], y=[1]), Data(edge_index=[2, 112], x=[27, 3], y=[1]), Data(edge_index=[2, 86], x=[18, 3], y=[1]), Data(edge_index=[2, 102], x=[27, 3], y=[1]), Data(edge_index=[2, 178], x=[44, 3], y=[1]), Data(edge_index=[2, 98], x=[26, 3], y=[1]), Data(edge_index=[2, 56], x=[16, 3], y=[1]), Data(edge_index=[2, 78], x=[21, 3], y=[1]), Data(edge_index=[2, 138], x=[33, 3], y=[1]), Data(edge_index=[2, 176], x=[42, 3], y=[1]), Data(edge_index=[2, 108], x=[34, 3], y=[1]), Data(edge_index=[2, 94], x=[32, 3], y=[1]), Data(edge_index=[2, 34], x=[10, 3], y=[1]), Data(edge_index=[2, 128], x=[35, 3], y=[1]), Data(edge_index=[2, 30], x=[9, 3], y=[1]), Data(edge_index=[2, 222], x=[48, 3], y=[1]), Data(edge_index=[2, 74], x=[18, 3], y=[1]), Data(edge_index=[2, 196], x=[52, 3], y=[1]), Data(edge_index=[2, 166], x=[39, 3], y=[1]), Data(edge_index=[2, 232], x=[52, 3], y=[1]), Data(edge_index=[2, 94], x=[26, 3], y=[1]), Data(edge_index=[2, 216], x=[62, 3], y=[1]), Data(edge_index=[2, 94], x=[27, 3], y=[1]), Data(edge_index=[2, 242], x=[96, 3], y=[1]), Data(edge_index=[2, 140], x=[38, 3], y=[1]), Data(edge_index=[2, 102], x=[26, 3], y=[1]), Data(edge_index=[2, 30], x=[8, 3], y=[1]), Data(edge_index=[2, 52], x=[14, 3], y=[1]), Data(edge_index=[2, 168], x=[40, 3], y=[1]), Data(edge_index=[2, 102], x=[24, 3], y=[1]), Data(edge_index=[2, 282], x=[126, 3], y=[1]), Data(edge_index=[2, 74], x=[26, 3], y=[1]), Data(edge_index=[2, 192], x=[46, 3], y=[1]), Data(edge_index=[2, 146], x=[40, 3], y=[1]), Data(edge_index=[2, 72], x=[22, 3], y=[1]), Data(edge_index=[2, 132], x=[33, 3], y=[1]), Data(edge_index=[2, 40], x=[10, 3], y=[1]), Data(edge_index=[2, 152], x=[42, 3], y=[1]), Data(edge_index=[2, 164], x=[42, 3], y=[1]), Data(edge_index=[2, 86], x=[25, 3], y=[1]), Data(edge_index=[2, 156], x=[36, 3], y=[1]), Data(edge_index=[2, 298], x=[122, 3], y=[1]), Data(edge_index=[2, 86], x=[25, 3], y=[1]), Data(edge_index=[2, 36], x=[10, 3], y=[1]), Data(edge_index=[2, 82], x=[18, 3], y=[1]), Data(edge_index=[2, 200], x=[55, 3], y=[1]), Data(edge_index=[2, 102], x=[32, 3], y=[1]), Data(edge_index=[2, 184], x=[42, 3], y=[1]), Data(edge_index=[2, 72], x=[19, 3], y=[1]), Data(edge_index=[2, 28], x=[7, 3], y=[1]), Data(edge_index=[2, 106], x=[28, 3], y=[1]), Data(edge_index=[2, 32], x=[100, 3], y=[1]), Data(edge_index=[2, 116], x=[27, 3], y=[1]), Data(edge_index=[2, 112], x=[25, 3], y=[1]), Data(edge_index=[2, 6], x=[3, 3], y=[1]), Data(edge_index=[2, 158], x=[38, 3], y=[1]), Data(edge_index=[2, 210], x=[57, 3], y=[1]), Data(edge_index=[2, 194], x=[55, 3], y=[1]), Data(edge_index=[2, 112], x=[25, 3], y=[1]), Data(edge_index=[2, 120], x=[38, 3], y=[1]), Data(edge_index=[2, 174], x=[39, 3], y=[1]), Data(edge_index=[2, 184], x=[44, 3], y=[1]), Data(edge_index=[2, 154], x=[34, 3], y=[1]), Data(edge_index=[2, 74], x=[24, 3], y=[1]), Data(edge_index=[2, 86], x=[24, 3], y=[1]), Data(edge_index=[2, 134], x=[39, 3], y=[1]), Data(edge_index=[2, 184], x=[41, 3], y=[1]), Data(edge_index=[2, 86], x=[22, 3], y=[1]), Data(edge_index=[2, 90], x=[25, 3], y=[1]), Data(edge_index=[2, 78], x=[20, 3], y=[1]), Data(edge_index=[2, 120], x=[30, 3], y=[1]), Data(edge_index=[2, 182], x=[38, 3], y=[1]), Data(edge_index=[2, 180], x=[44, 3], y=[1]), Data(edge_index=[2, 162], x=[40, 3], y=[1]), Data(edge_index=[2, 106], x=[23, 3], y=[1]), Data(edge_index=[2, 78], x=[20, 3], y=[1]), Data(edge_index=[2, 60], x=[15, 3], y=[1]), Data(edge_index=[2, 128], x=[29, 3], y=[1]), Data(edge_index=[2, 78], x=[20, 3], y=[1]), Data(edge_index=[2, 126], x=[40, 3], y=[1]), Data(edge_index=[2, 228], x=[52, 3], y=[1]), Data(edge_index=[2, 86], x=[24, 3], y=[1]), Data(edge_index=[2, 202], x=[44, 3], y=[1]), Data(edge_index=[2, 190], x=[51, 3], y=[1]), Data(edge_index=[2, 172], x=[50, 3], y=[1]), Data(edge_index=[2, 16], x=[9, 3], y=[1]), Data(edge_index=[2, 114], x=[30, 3], y=[1]), Data(edge_index=[2, 148], x=[41, 3], y=[1]), Data(edge_index=[2, 78], x=[19, 3], y=[1]), Data(edge_index=[2, 108], x=[27, 3], y=[1]), Data(edge_index=[2, 194], x=[45, 3], y=[1]), Data(edge_index=[2, 108], x=[28, 3], y=[1]), Data(edge_index=[2, 28], x=[8, 3], y=[1]), Data(edge_index=[2, 84], x=[21, 3], y=[1]), Data(edge_index=[2, 94], x=[25, 3], y=[1]), Data(edge_index=[2, 180], x=[44, 3], y=[1]), Data(edge_index=[2, 102], x=[25, 3], y=[1]), Data(edge_index=[2, 154], x=[36, 3], y=[1]), Data(edge_index=[2, 122], x=[33, 3], y=[1]), Data(edge_index=[2, 184], x=[50, 3], y=[1]), Data(edge_index=[2, 100], x=[29, 3], y=[1]), Data(edge_index=[2, 90], x=[21, 3], y=[1]), Data(edge_index=[2, 148], x=[38, 3], y=[1]), Data(edge_index=[2, 18], x=[5, 3], y=[1]), Data(edge_index=[2, 122], x=[32, 3], y=[1]), Data(edge_index=[2, 76], x=[20, 3], y=[1]), Data(edge_index=[2, 96], x=[23, 3], y=[1]), Data(edge_index=[2, 190], x=[44, 3], y=[1]), Data(edge_index=[2, 44], x=[12, 3], y=[1]), Data(edge_index=[2, 220], x=[58, 3], y=[1]), Data(edge_index=[2, 108], x=[28, 3], y=[1]), Data(edge_index=[2, 112], x=[27, 3], y=[1]), Data(edge_index=[2, 188], x=[42, 3], y=[1]), Data(edge_index=[2, 134], x=[30, 3], y=[1]), Data(edge_index=[2, 88], x=[23, 3], y=[1]), Data(edge_index=[2, 132], x=[38, 3], y=[1]), Data(edge_index=[2, 156], x=[48, 3], y=[1]), Data(edge_index=[2, 66], x=[14, 3], y=[1]), Data(edge_index=[2, 68], x=[18, 3], y=[1]), Data(edge_index=[2, 100], x=[21, 3], y=[1]), Data(edge_index=[2, 84], x=[22, 3], y=[1]), Data(edge_index=[2, 176], x=[45, 3], y=[1]), Data(edge_index=[2, 146], x=[37, 3], y=[1]), Data(edge_index=[2, 100], x=[23, 3], y=[1]), Data(edge_index=[2, 116], x=[26, 3], y=[1]), Data(edge_index=[2, 78], x=[19, 3], y=[1]), Data(edge_index=[2, 50], x=[15, 3], y=[1]), Data(edge_index=[2, 104], x=[28, 3], y=[1]), Data(edge_index=[2, 196], x=[50, 3], y=[1]), Data(edge_index=[2, 44], x=[11, 3], y=[1]), Data(edge_index=[2, 2], x=[2, 3], y=[1]), Data(edge_index=[2, 130], x=[29, 3], y=[1]), Data(edge_index=[2, 60], x=[17, 3], y=[1]), Data(edge_index=[2, 178], x=[48, 3], y=[1]), Data(edge_index=[2, 114], x=[27, 3], y=[1]), Data(edge_index=[2, 196], x=[43, 3], y=[1]), Data(edge_index=[2, 172], x=[41, 3], y=[1]), Data(edge_index=[2, 164], x=[38, 3], y=[1]), Data(edge_index=[2, 146], x=[36, 3], y=[1]), Data(edge_index=[2, 104], x=[23, 3], y=[1]), Data(edge_index=[2, 96], x=[21, 3], y=[1]), Data(edge_index=[2, 180], x=[41, 3], y=[1]), Data(edge_index=[2, 162], x=[37, 3], y=[1]), Data(edge_index=[2, 102], x=[26, 3], y=[1]), Data(edge_index=[2, 58], x=[14, 3], y=[1]), Data(edge_index=[2, 108], x=[28, 3], y=[1]), Data(edge_index=[2, 138], x=[39, 3], y=[1]), Data(edge_index=[2, 148], x=[40, 3], y=[1]), Data(edge_index=[2, 188], x=[48, 3], y=[1]), Data(edge_index=[2, 106], x=[38, 3], y=[1]), Data(edge_index=[2, 168], x=[37, 3], y=[1]), Data(edge_index=[2, 70], x=[19, 3], y=[1]), Data(edge_index=[2, 118], x=[40, 3], y=[1]), Data(edge_index=[2, 158], x=[38, 3], y=[1]), Data(edge_index=[2, 214], x=[60, 3], y=[1]), Data(edge_index=[2, 74], x=[18, 3], y=[1]), Data(edge_index=[2, 62], x=[13, 3], y=[1]), Data(edge_index=[2, 92], x=[26, 3], y=[1]), Data(edge_index=[2, 138], x=[37, 3], y=[1]), Data(edge_index=[2, 164], x=[39, 3], y=[1]), Data(edge_index=[2, 128], x=[36, 3], y=[1]), Data(edge_index=[2, 74], x=[20, 3], y=[1]), Data(edge_index=[2, 116], x=[39, 3], y=[1]), Data(edge_index=[2, 98], x=[27, 3], y=[1]), Data(edge_index=[2, 58], x=[14, 3], y=[1]), Data(edge_index=[2, 180], x=[46, 3], y=[1]), Data(edge_index=[2, 132], x=[40, 3], y=[1]), Data(edge_index=[2, 94], x=[27, 3], y=[1]), Data(edge_index=[2, 122], x=[35, 3], y=[1]), Data(edge_index=[2, 114], x=[32, 3], y=[1]), Data(edge_index=[2, 166], x=[41, 3], y=[1]), Data(edge_index=[2, 114], x=[32, 3], y=[1]), Data(edge_index=[2, 36], x=[10, 3], y=[1]), Data(edge_index=[2, 124], x=[28, 3], y=[1]), Data(edge_index=[2, 186], x=[46, 3], y=[1])]\n",
      "False\n",
      "<class 'list'>\n"
     ]
    },
    {
     "name": "stderr",
     "output_type": "stream",
     "text": [
      "600it [00:00, 1317.62it/s]\n"
     ]
    }
   ],
   "source": [
    "import networkx as nx \n",
    "import random\n",
    "from tqdm import tqdm\n",
    "train_len = int(0.8 * len(dataset))\n",
    "train, test = [], []\n",
    "dataset = list(dataset)\n",
    "print(dataset)\n",
    "random.shuffle(dataset)\n",
    "print(dataset)\n",
    "has_name = hasattr(dataset[0], \"name\")\n",
    "print(has_name)\n",
    "print(type(dataset))\n",
    "for i, graph in tqdm(enumerate(dataset)):\n",
    "    if not type(graph) == nx.Graph:\n",
    "        if has_name: del graph.name\n",
    "        graph = pygu.to_networkx(graph).to_undirected()\n",
    "    if i < train_len:\n",
    "        train.append(graph)\n",
    "    else:\n",
    "        test.append(graph)"
   ]
  },
  {
   "cell_type": "code",
   "execution_count": 16,
   "metadata": {},
   "outputs": [
    {
     "data": {
      "text/plain": [
       "[<networkx.classes.graph.Graph at 0x1683b9b90>,\n",
       " <networkx.classes.graph.Graph at 0x167931c10>]"
      ]
     },
     "execution_count": 16,
     "metadata": {},
     "output_type": "execute_result"
    }
   ],
   "source": [
    "train[:2]"
   ]
  }
 ],
 "metadata": {
  "kernelspec": {
   "display_name": "testNeuro",
   "language": "python",
   "name": "python3"
  },
  "language_info": {
   "codemirror_mode": {
    "name": "ipython",
    "version": 3
   },
   "file_extension": ".py",
   "mimetype": "text/x-python",
   "name": "python",
   "nbconvert_exporter": "python",
   "pygments_lexer": "ipython3",
   "version": "3.11.9"
  }
 },
 "nbformat": 4,
 "nbformat_minor": 2
}
